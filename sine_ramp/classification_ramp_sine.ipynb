{
 "cells": [
  {
   "cell_type": "code",
   "execution_count": 19,
   "metadata": {},
   "outputs": [],
   "source": [
    "\"\"\"Import a training set and train the network\n",
    "Then import a test set and try the network on it\n",
    "\"\"\"\n",
    "import math\n",
    "import os\n",
    "from sklearn import linear_model\n",
    "\n",
    "os.chdir(\"/Users/liutianlin/Desktop/Academics/MINDS/neuromorphic\")\n",
    "\n",
    "import numpy as np\n",
    "from matplotlib import pyplot as plt\n",
    "import h5py\n",
    "import DYNAPSETools.dynapseSpikesFitter as fitter\n",
    "\n",
    "folderName = \"/Users/liutianlin/Desktop/Academics/MINDS/neuromorphic/caer/myoutputs/thesis_output_aedat/\"\n",
    "\n",
    "\n",
    "plt.close('all')\n",
    "\n",
    "trainFileList = ['baselineBias_classificationRes_classification', 'classificationBias_slowClassificationRes_classification' ]\n",
    "\n",
    "\n",
    "\n",
    "acc_dict = {}\n",
    "target_dict = {}\n",
    "timeScale_dict= {}\n",
    "prediction_dict = {}\n",
    "      \n"
   ]
  },
  {
   "cell_type": "code",
   "execution_count": 20,
   "metadata": {},
   "outputs": [
    {
     "name": "stdout",
     "output_type": "stream",
     "text": [
      "Performance: 94.330000\n",
      "Performance: 99.830000\n"
     ]
    }
   ],
   "source": [
    "\n",
    "\n",
    "# ======================================== TRAINING\n",
    "# Import training data from dataset\n",
    "\n",
    "for this_trainFile in trainFileList:\n",
    "    trainDataset = this_trainFile + '.hdf5'\n",
    "    testDataset = trainDataset\n",
    "\n",
    "    fileName = os.path.join(folderName, trainDataset)\n",
    "    h5f = h5py.File(fileName, \"r\")\n",
    "    importedData = h5f[\"data\"][:]\n",
    "    importedTarget = h5f[\"target\"][:]\n",
    "    h5f.close()\n",
    "\n",
    "    # Merge together all data (for linear regression)\n",
    "    data = np.concatenate(importedData, axis = 1)\n",
    "    target = np.concatenate(importedTarget, axis = 1)\n",
    "\n",
    "    # carry out linear regression\n",
    "    regr = linear_model.Ridge(alpha = 0)\n",
    "\n",
    "    regr.fit(data.T, target.T)\n",
    "    coefficients = regr.coef_\n",
    "\n",
    "\n",
    "\n",
    "    #%%\n",
    "    # ======================================== TESTING\n",
    "    # Import test data from dataset\n",
    "    fileName = os.path.join(folderName, testDataset)\n",
    "    h5f = h5py.File(fileName, \"r\")\n",
    "    importedData = h5f[\"data\"][:]\n",
    "    importedTarget = h5f[\"target\"][:]\n",
    "    h5f.close()\n",
    "\n",
    "    # Merge together all test data\n",
    "    data = np.concatenate(importedData, axis = 1)\n",
    "    target = np.concatenate(importedTarget, axis = 1)\n",
    "\n",
    "    # Make prediction\n",
    "    #prediction = fitter.pseudo_inv_prevision(coefficients = coefficients, matrix =  data)\n",
    "    prediction = fitter.sklearn_prevision(regr = regr, matrix = data)\n",
    "\n",
    "    ## Transform target to shape (time step, neuron)\n",
    "    target = target.T\n",
    "\n",
    "    timeScale = np.arange(np.shape(data)[1])\n",
    "    rights, wrongs = fitter.prediction_performances(prediction = prediction, target = target, firingRateThreshold = 0.5)\n",
    "\n",
    "    acc_dict[this_trainFile] = round(rights / len(prediction) * 100,2)\n",
    "    print(\"Performance: {:f}\".format(acc_dict[this_trainFile]))\n",
    "\n",
    "\n",
    "    target_dict[this_trainFile] = target\n",
    "    timeScale_dict[this_trainFile] = timeScale\n",
    "    prediction_dict[this_trainFile] = prediction \n",
    "\n",
    "          "
   ]
  },
  {
   "cell_type": "code",
   "execution_count": 27,
   "metadata": {},
   "outputs": [
    {
     "data": {
      "image/png": "[encoded data removed]",
      "text/plain": [
       "<Figure size 458.64x141.731 with 2 Axes>"
      ]
     },
     "metadata": {
      "needs_background": "light"
     },
     "output_type": "display_data"
    }
   ],
   "source": [
    "\n",
    "plt.rc('text', usetex=True)\n",
    "plt.rc('xtick', labelsize=14)\n",
    "plt.rc('ytick', labelsize=14)\n",
    "plt.rc('axes', labelsize=14)\n",
    "\n",
    "# plt.rcParams.update({'font.size': 22})\n",
    "width = 6.37\n",
    "height = width / 1.618 / 2\n",
    "\n",
    "fig = plt.figure()\n",
    "# fig.subplots_adjust(left=.06, bottom=.16, right=.99, top=.97)\n",
    "ax1 = fig.add_subplot(121)\n",
    "# _, ax1, handles = fitter.prediction_plot(timeScale = timeScale, prediction = prediction, target = target)\n",
    "handles = []\n",
    "handle = ax1.plot(timeScale_dict[trainFileList[0]] * 0.01 , target_dict[trainFileList[0]],  linestyle = 'None', marker = 'o',markersize = 3)\n",
    "handles.append(handle)\n",
    "handle = ax1.plot(timeScale_dict[trainFileList[0]] * 0.01 , prediction_dict[trainFileList[0]], linestyle = 'None', marker = 'o',markersize = 3)\n",
    "handles.append(handle)\n",
    "handles[0][0].set_color(\"red\")\n",
    "handles[1][0].set_color(\"orange\")\n",
    "handles[0][1].set_color(\"green\")\n",
    "handles[1][1].set_color(\"olive\")\n",
    "ax1.plot([timeScale_dict[trainFileList[0]][0] * 0.01, timeScale_dict[trainFileList[0]][-1]], [0.5, 0.5], \"k--\", lw=2)\n",
    "ax1.set_ylim([-0.5,1.8])\n",
    "ax1.set_xlim([-0.5,19])\n",
    "ax1.set_xticks([0, 18])\n",
    "ax1.text(10.5, 1.45, 'accuracy: ' + str(acc_dict[trainFileList[0]]) + '\\%', fontsize=11)\n",
    "ax1.set_xlabel('Time (sec)')\n",
    "ax1.set_ylabel('Prediction')\n",
    "\n",
    "\n",
    "\n",
    "\n",
    "ax2 = fig.add_subplot(122)\n",
    "handles = []\n",
    "handle = ax2.plot(timeScale_dict[trainFileList[1]] * 0.01 , target_dict[trainFileList[1]],  linestyle = 'None', marker = 'o',markersize = 3)\n",
    "handles.append(handle)\n",
    "\n",
    "handle = ax2.plot(timeScale_dict[trainFileList[1]] * 0.01, prediction_dict[trainFileList[1]], linestyle = 'None', marker = 'o',markersize = 3)\n",
    "handles.append(handle)\n",
    "handles[0][0].set_color(\"red\")\n",
    "handles[1][0].set_color(\"orange\")\n",
    "handles[0][1].set_color(\"green\")\n",
    "handles[1][1].set_color(\"olive\")\n",
    "ax2.plot([timeScale_dict[trainFileList[1]][0] * 0.01 , timeScale_dict[trainFileList[1]][-1]], [0.5, 0.5], \"k--\", lw=2)\n",
    "ax2.text(10.5, 1.45, 'accuracy: ' + str(acc_dict[trainFileList[1]]) + '\\%', fontsize=11)\n",
    "ax2.set_ylim([-0.5,1.8])\n",
    "ax2.set_xlim([-0.5,19])\n",
    "ax2.set_xticks([0, 18])\n",
    "ax2.set_xlabel('Time (sec)')\n",
    "\n",
    "\n",
    "fig.set_size_inches(width, height)\n",
    "fig.subplots_adjust(left=.08, bottom=.05, right=.99, top=.97)\n",
    "\n",
    "plt.subplots_adjust(bottom = 0.3, wspace=0.2)\n",
    "plt.gcf().savefig('/Users/liutianlin/Desktop/Academics/MSc_thesis/my_msc_thesis/figs/thesis_classification.png', dpi=1200)\n",
    "\n",
    "\n",
    "plt.show()\n",
    "\n",
    "\n",
    "\n"
   ]
  },
  {
   "cell_type": "code",
   "execution_count": 15,
   "metadata": {},
   "outputs": [
    {
     "data": {
      "text/plain": [
       "'accuracy: 99.83%'"
      ]
     },
     "execution_count": 15,
     "metadata": {},
     "output_type": "execute_result"
    }
   ],
   "source": [
    "'accuracy: ' + str(acc_dict[trainFileList[1]]) + '%'"
   ]
  },
  {
   "cell_type": "code",
   "execution_count": null,
   "metadata": {},
   "outputs": [],
   "source": []
  }
 ],
 "metadata": {
  "kernelspec": {
   "display_name": "Python 3",
   "language": "python",
   "name": "python3"
  },
  "language_info": {
   "codemirror_mode": {
    "name": "ipython",
    "version": 3
   },
   "file_extension": ".py",
   "mimetype": "text/x-python",
   "name": "python",
   "nbconvert_exporter": "python",
   "pygments_lexer": "ipython3",
   "version": "3.7.3"
  }
 },
 "nbformat": 4,
 "nbformat_minor": 2
}
