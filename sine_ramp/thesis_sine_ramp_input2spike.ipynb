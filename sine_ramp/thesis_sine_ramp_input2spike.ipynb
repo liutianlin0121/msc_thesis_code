{
 "cells": [
  {
   "cell_type": "code",
   "execution_count": 1,
   "metadata": {},
   "outputs": [],
   "source": [
    "import os\n",
    "os.chdir(\"/Users/liutianlin/Desktop/Academics/MINDS/neuromorphic\") # the root folder of dynapseReservoir and DYNAPSETools\n",
    "\n",
    "import numpy as np\n",
    "import matplotlib.pyplot as plt\n",
    "\n",
    "\n",
    "from dynapseReservoir.networks.inputsParameters import in_5_0_P\n",
    "from dynapseReservoir.networks.reservoirsParameters import generalNetP \n",
    "import DYNAPSETools.dynapseSpikesGenerator as DSG\n",
    "\n",
    "\n"
   ]
  },
  {
   "cell_type": "markdown",
   "metadata": {},
   "source": [
    "# Book keeping the neuron positions"
   ]
  },
  {
   "cell_type": "code",
   "execution_count": 2,
   "metadata": {},
   "outputs": [],
   "source": [
    "np.random.seed(in_5_0_P[\"seed\"])\n",
    "\n",
    "plt.close(\"all\")\n",
    "\n",
    "#======================  Create events\n",
    "# The trigger event that marks the start of the experiment\n",
    "startTrigger = DSG.InputPattern(name = \"startTrigger\", isiBase = in_5_0_P[\"isiBase\"])\n",
    "U, C, N = generalNetP[\"inStartTriggerPos\"]   \n",
    "# In this case, U4C0N16, the source address in the .txt file should be 1039. This is because N16 => 10000, C0 =>00, U04 => 1111 , \n",
    "# and the decimal of 10000001111 is 1039.\n",
    "\n",
    "\n",
    "startTrigger.single_event(virtualSourceCoreId = C,\n",
    "                          neuronAddress = N,\n",
    "                          coreDest = in_5_0_P[\"coreDest\"], # (= 15, means to all cores 0,1,2,3)\n",
    "                         firePeriod = in_5_0_P[\"startDelay\"])  \n",
    "\n",
    "\n",
    "\n",
    "# First classification\n",
    "onesClassification = DSG.InputPattern(name = \"onesClassification\", isiBase = in_5_0_P[\"isiBase\"])\n",
    "U, C, N = generalNetP[\"inTargetEncodingPos\"]\n",
    "onesClassification.single_event(virtualSourceCoreId = C,\n",
    "                                neuronAddress = N,\n",
    "                                coreDest = in_5_0_P[\"coreDest\"],\n",
    "                                firePeriod = in_5_0_P[\"safeDelay\"])\n",
    "\n",
    "# In this case, U4C0N1, the source address in the .txt file should be 79. This is because N1 => 1, C0 =>00, U04 => 1111 , \n",
    "# and the decimal of 1001111 is 79."
   ]
  },
  {
   "cell_type": "code",
   "execution_count": 3,
   "metadata": {},
   "outputs": [],
   "source": [
    "\n",
    "# Out neuron 2 classification\n",
    "twoClassification = DSG.InputPattern(name = \"twoClassification\", isiBase = in_5_0_P[\"isiBase\"])\n",
    "N = N + 1\n",
    "twoClassification.single_event(virtualSourceCoreId = C,\n",
    "                                neuronAddress = N,\n",
    "                                coreDest = in_5_0_P[\"coreDest\"],\n",
    "                                firePeriod = in_5_0_P[\"safeDelay\"])\n",
    "\n",
    "\n",
    "# The end of stimulus\n",
    "endStimulus = DSG.InputPattern(name = \"endStimulus\", isiBase = in_5_0_P[\"isiBase\"])\n",
    "U, C, N = generalNetP[\"inEndStimulusPos\"]\n",
    "endStimulus.single_event(virtualSourceCoreId = C,\n",
    "                         neuronAddress = N,\n",
    "                         coreDest = in_5_0_P[\"coreDest\"],\n",
    "                         firePeriod = in_5_0_P[\"safeDelay\"])\n",
    "\n",
    "# The end of the experiment\n",
    "stopTrigger = DSG.InputPattern(name = \"stopTrigger\", isiBase = in_5_0_P[\"isiBase\"])\n",
    "U, C, N = generalNetP[\"inStopTriggerPos\"]\n",
    "stopTrigger.single_event(virtualSourceCoreId = C,\n",
    "                         neuronAddress = N,\n",
    "                         coreDest = in_5_0_P[\"coreDest\"],\n",
    "                         firePeriod = in_5_0_P[\"stopDelay\"])\n"
   ]
  },
  {
   "cell_type": "markdown",
   "metadata": {},
   "source": [
    "# Creating input pattern: (1) RAMP+SINE and (2) SINE"
   ]
  },
  {
   "cell_type": "markdown",
   "metadata": {},
   "source": [
    "### The First Pattern: SINE + RAMP\n"
   ]
  },
  {
   "cell_type": "code",
   "execution_count": 4,
   "metadata": {},
   "outputs": [
    {
     "data": {
      "text/plain": [
       "[<matplotlib.lines.Line2D at 0x12607a400>]"
      ]
     },
     "execution_count": 4,
     "metadata": {},
     "output_type": "execute_result"
    },
    {
     "data": {
      "image/png": "[encoded data removed]",
      "text/plain": [
       "<Figure size 432x288 with 1 Axes>"
      ]
     },
     "metadata": {
      "needs_background": "light"
     },
     "output_type": "display_data"
    }
   ],
   "source": [
    "signal1 = DSG.InputPattern(name = \"signal1\", isiBase = in_5_0_P[\"isiBase\"])\n",
    "\n",
    "# Create the RAMP part which lasts for 1 second\n",
    "tStart = tStop = 0\n",
    "tStop += in_5_0_P[\"sig1part2Duration\"]\n",
    "tSig1Part2 = np.linspace(tStart, tStop, int(in_5_0_P[\"sigSamples\"]))\n",
    "ySig1Part2 = np.square(tSig1Part2 - tStart)\n",
    "\n",
    "\n",
    "# Create the SINE signal part which lasts for 1 second\n",
    "tStart = tStop\n",
    "tStop += in_5_0_P[\"sig1part3Duration\"]\n",
    "tSig1Part3 = np.linspace(tStart, tStop, int(in_5_0_P[\"sigSamples\"]))\n",
    "ySig1Part3 = np.sin(2 * np.pi * in_5_0_P[\"sig1part3Freq\"] * (tSig1Part3 - tStart))\n",
    "\n",
    "# combine the ramp and the sine\n",
    "\n",
    "tSig1 = np.ndarray.flatten(np.array([tSig1Part2, tSig1Part3]))\n",
    "ySig1 = np.ndarray.flatten(np.array([ySig1Part2, ySig1Part3]))\n",
    "\n",
    "\n",
    "\n",
    "plt.plot(tSig1, ySig1)\n"
   ]
  },
  {
   "cell_type": "code",
   "execution_count": null,
   "metadata": {},
   "outputs": [],
   "source": []
  },
  {
   "cell_type": "code",
   "execution_count": 8,
   "metadata": {},
   "outputs": [],
   "source": [
    "\n",
    "U, C, N1 = generalNetP[\"inCH0\"]\n",
    "U, C, N2 = generalNetP[\"inCH1\"]\n",
    "signal1.threshold_encoder(virtualSourceCoreId = C,\n",
    "                          neuronAddressUpCH = N1,  \n",
    "                          neuronAddressDwCH = N2,  \n",
    "                          coreDest = in_5_0_P[\"coreDest\"],   \n",
    "                          threshold = in_5_0_P[\"sigThd\"],    \n",
    "                          t = tSig1,    \n",
    "                          y = ySig1,    \n",
    "                          noiseVar = in_5_0_P[\"sig1Jitter\"],      \n",
    "                          initDelay = in_5_0_P[\"sig1Delay\"])  "
   ]
  },
  {
   "cell_type": "markdown",
   "metadata": {},
   "source": [
    "### The Second Pattern:  RAMP\n"
   ]
  },
  {
   "cell_type": "code",
   "execution_count": 9,
   "metadata": {},
   "outputs": [
    {
     "data": {
      "text/plain": [
       "[<matplotlib.lines.Line2D at 0x1327cc668>]"
      ]
     },
     "execution_count": 9,
     "metadata": {},
     "output_type": "execute_result"
    },
    {
     "data": {
      "image/png": "[encoded data removed]",
      "text/plain": [
       "<Figure size 432x288 with 1 Axes>"
      ]
     },
     "metadata": {
      "needs_background": "light"
     },
     "output_type": "display_data"
    }
   ],
   "source": [
    "signal2 = DSG.InputPattern(name = \"signal2\", isiBase = in_5_0_P[\"isiBase\"])\n",
    "tSig2 = np.linspace(0, in_5_0_P[\"sig2Duration\"], int(in_5_0_P[\"sigSamples\"]))\n",
    "ySig2 = np.sin(2 * np.pi * in_5_0_P[\"sig2Freq\"] * tSig2)\n",
    "\n",
    "U, C, N1 = generalNetP[\"inCH0\"]\n",
    "U, C, N2 = generalNetP[\"inCH1\"]\n",
    "signal2.threshold_encoder(virtualSourceCoreId = C,\n",
    "                          neuronAddressUpCH = N1,\n",
    "                          neuronAddressDwCH = N2,\n",
    "                          coreDest = in_5_0_P[\"coreDest\"],\n",
    "                          threshold = in_5_0_P[\"sigThd\"],\n",
    "                          t = tSig2,\n",
    "                          y = ySig2,\n",
    "                          noiseVar = in_5_0_P[\"sig2Jitter\"],\n",
    "                          initDelay = in_5_0_P[\"sig2Delay\"])\n",
    "\n",
    "plt.plot(tSig2, ySig2)\n"
   ]
  },
  {
   "cell_type": "markdown",
   "metadata": {},
   "source": [
    "# Create Final Patterns"
   ]
  },
  {
   "cell_type": "code",
   "execution_count": 10,
   "metadata": {},
   "outputs": [],
   "source": [
    "#======================  Create Final Patterns\n",
    "finalPattern = []\n",
    "\n",
    "\n",
    "# repeat the RAMP + SINE signal twice as a washout\n",
    "washoutPattern1 = signal1\n",
    "for i in np.arange(2):\n",
    "    finalPattern.append(washoutPattern1)\n",
    "    \n",
    "recordPattern1 = (startTrigger,\n",
    "                 onesClassification,\n",
    "                 signal1,\n",
    "                 endStimulus,\n",
    "                 stopTrigger)\n",
    "\n",
    "\n",
    "# repeat the  RAMP + SINE signal 3 times (will use this part for the classification)\n",
    "for i in np.arange(3):\n",
    "    finalPattern.extend(recordPattern1)\n",
    "\n",
    "    \n",
    "# repeat the SINE signal twice as a washout\n",
    "\n",
    "washoutPattern2 = signal2\n",
    "\n",
    "for i in np.arange(2):\n",
    "    finalPattern.append(washoutPattern2)\n",
    "    \n",
    "recordPattern2 = (startTrigger,\n",
    "                 twoClassification,\n",
    "                 signal2,\n",
    "                 endStimulus,\n",
    "                 stopTrigger)\n",
    "\n",
    "# repeat the  SINE signal 3 times (will use this part for the classification)\n",
    "for i in np.arange(3):\n",
    "    finalPattern.extend(recordPattern2)\n",
    "    \n",
    "    \n"
   ]
  },
  {
   "cell_type": "code",
   "execution_count": null,
   "metadata": {},
   "outputs": [],
   "source": [
    "2"
   ]
  },
  {
   "cell_type": "markdown",
   "metadata": {},
   "source": [
    "# Save and plot"
   ]
  },
  {
   "cell_type": "code",
   "execution_count": 11,
   "metadata": {},
   "outputs": [
    {
     "name": "stdout",
     "output_type": "stream",
     "text": [
      "Checking and writing pattern signal1\n",
      "Current pattern lenght is 62\n",
      "Cumulative pattern lenght is 62. Remaining 32705 events\n",
      "Pattern signal1 succesfully written\n",
      "\n",
      "Checking and writing pattern signal1\n",
      "Current pattern lenght is 62\n",
      "Cumulative pattern lenght is 124. Remaining 32643 events\n",
      "Pattern signal1 succesfully written\n",
      "\n",
      "Checking and writing pattern startTrigger\n",
      "Current pattern lenght is 1\n",
      "Cumulative pattern lenght is 125. Remaining 32642 events\n",
      "Pattern startTrigger succesfully written\n",
      "\n",
      "Checking and writing pattern onesClassification\n",
      "Current pattern lenght is 1\n",
      "Cumulative pattern lenght is 126. Remaining 32641 events\n",
      "Pattern onesClassification succesfully written\n",
      "\n",
      "Checking and writing pattern signal1\n",
      "Current pattern lenght is 62\n",
      "Cumulative pattern lenght is 188. Remaining 32579 events\n",
      "Pattern signal1 succesfully written\n",
      "\n",
      "Checking and writing pattern endStimulus\n",
      "Current pattern lenght is 1\n",
      "Cumulative pattern lenght is 189. Remaining 32578 events\n",
      "Pattern endStimulus succesfully written\n",
      "\n",
      "Checking and writing pattern stopTrigger\n",
      "Current pattern lenght is 1\n",
      "Cumulative pattern lenght is 190. Remaining 32577 events\n",
      "Pattern stopTrigger succesfully written\n",
      "\n",
      "Checking and writing pattern startTrigger\n",
      "Current pattern lenght is 1\n",
      "Cumulative pattern lenght is 191. Remaining 32576 events\n",
      "Pattern startTrigger succesfully written\n",
      "\n",
      "Checking and writing pattern onesClassification\n",
      "Current pattern lenght is 1\n",
      "Cumulative pattern lenght is 192. Remaining 32575 events\n",
      "Pattern onesClassification succesfully written\n",
      "\n",
      "Checking and writing pattern signal1\n",
      "Current pattern lenght is 62\n",
      "Cumulative pattern lenght is 254. Remaining 32513 events\n",
      "Pattern signal1 succesfully written\n",
      "\n",
      "Checking and writing pattern endStimulus\n",
      "Current pattern lenght is 1\n",
      "Cumulative pattern lenght is 255. Remaining 32512 events\n",
      "Pattern endStimulus succesfully written\n",
      "\n",
      "Checking and writing pattern stopTrigger\n",
      "Current pattern lenght is 1\n",
      "Cumulative pattern lenght is 256. Remaining 32511 events\n",
      "Pattern stopTrigger succesfully written\n",
      "\n",
      "Checking and writing pattern startTrigger\n",
      "Current pattern lenght is 1\n",
      "Cumulative pattern lenght is 257. Remaining 32510 events\n",
      "Pattern startTrigger succesfully written\n",
      "\n",
      "Checking and writing pattern onesClassification\n",
      "Current pattern lenght is 1\n",
      "Cumulative pattern lenght is 258. Remaining 32509 events\n",
      "Pattern onesClassification succesfully written\n",
      "\n",
      "Checking and writing pattern signal1\n",
      "Current pattern lenght is 62\n",
      "Cumulative pattern lenght is 320. Remaining 32447 events\n",
      "Pattern signal1 succesfully written\n",
      "\n",
      "Checking and writing pattern endStimulus\n",
      "Current pattern lenght is 1\n",
      "Cumulative pattern lenght is 321. Remaining 32446 events\n",
      "Pattern endStimulus succesfully written\n",
      "\n",
      "Checking and writing pattern stopTrigger\n",
      "Current pattern lenght is 1\n",
      "Cumulative pattern lenght is 322. Remaining 32445 events\n",
      "Pattern stopTrigger succesfully written\n",
      "\n",
      "Checking and writing pattern signal2\n",
      "Current pattern lenght is 49\n",
      "Cumulative pattern lenght is 371. Remaining 32396 events\n",
      "Pattern signal2 succesfully written\n",
      "\n",
      "Checking and writing pattern signal2\n",
      "Current pattern lenght is 49\n",
      "Cumulative pattern lenght is 420. Remaining 32347 events\n",
      "Pattern signal2 succesfully written\n",
      "\n",
      "Checking and writing pattern startTrigger\n",
      "Current pattern lenght is 1\n",
      "Cumulative pattern lenght is 421. Remaining 32346 events\n",
      "Pattern startTrigger succesfully written\n",
      "\n",
      "Checking and writing pattern twoClassification\n",
      "Current pattern lenght is 1\n",
      "Cumulative pattern lenght is 422. Remaining 32345 events\n",
      "Pattern twoClassification succesfully written\n",
      "\n",
      "Checking and writing pattern signal2\n",
      "Current pattern lenght is 49\n",
      "Cumulative pattern lenght is 471. Remaining 32296 events\n",
      "Pattern signal2 succesfully written\n",
      "\n",
      "Checking and writing pattern endStimulus\n",
      "Current pattern lenght is 1\n",
      "Cumulative pattern lenght is 472. Remaining 32295 events\n",
      "Pattern endStimulus succesfully written\n",
      "\n",
      "Checking and writing pattern stopTrigger\n",
      "Current pattern lenght is 1\n",
      "Cumulative pattern lenght is 473. Remaining 32294 events\n",
      "Pattern stopTrigger succesfully written\n",
      "\n",
      "Checking and writing pattern startTrigger\n",
      "Current pattern lenght is 1\n",
      "Cumulative pattern lenght is 474. Remaining 32293 events\n",
      "Pattern startTrigger succesfully written\n",
      "\n",
      "Checking and writing pattern twoClassification\n",
      "Current pattern lenght is 1\n",
      "Cumulative pattern lenght is 475. Remaining 32292 events\n",
      "Pattern twoClassification succesfully written\n",
      "\n",
      "Checking and writing pattern signal2\n",
      "Current pattern lenght is 49\n",
      "Cumulative pattern lenght is 524. Remaining 32243 events\n",
      "Pattern signal2 succesfully written\n",
      "\n",
      "Checking and writing pattern endStimulus\n",
      "Current pattern lenght is 1\n",
      "Cumulative pattern lenght is 525. Remaining 32242 events\n",
      "Pattern endStimulus succesfully written\n",
      "\n",
      "Checking and writing pattern stopTrigger\n",
      "Current pattern lenght is 1\n",
      "Cumulative pattern lenght is 526. Remaining 32241 events\n",
      "Pattern stopTrigger succesfully written\n",
      "\n",
      "Checking and writing pattern startTrigger\n",
      "Current pattern lenght is 1\n",
      "Cumulative pattern lenght is 527. Remaining 32240 events\n",
      "Pattern startTrigger succesfully written\n",
      "\n",
      "Checking and writing pattern twoClassification\n",
      "Current pattern lenght is 1\n",
      "Cumulative pattern lenght is 528. Remaining 32239 events\n",
      "Pattern twoClassification succesfully written\n",
      "\n",
      "Checking and writing pattern signal2\n",
      "Current pattern lenght is 49\n",
      "Cumulative pattern lenght is 577. Remaining 32190 events\n",
      "Pattern signal2 succesfully written\n",
      "\n",
      "Checking and writing pattern endStimulus\n",
      "Current pattern lenght is 1\n",
      "Cumulative pattern lenght is 578. Remaining 32189 events\n",
      "Pattern endStimulus succesfully written\n",
      "\n",
      "Checking and writing pattern stopTrigger\n",
      "Current pattern lenght is 1\n",
      "Cumulative pattern lenght is 579. Remaining 32188 events\n",
      "Pattern stopTrigger succesfully written\n",
      "\n"
     ]
    }
   ],
   "source": [
    "fileName = \"/Users/liutianlin/Desktop/Academics/MINDS/neuromorphic/caer/myStimulus/correct_inClassification.txt\"\n",
    "DSG.write_to_file(*finalPattern, fileName = fileName)"
   ]
  },
  {
   "cell_type": "code",
   "execution_count": null,
   "metadata": {},
   "outputs": [],
   "source": []
  },
  {
   "cell_type": "code",
   "execution_count": null,
   "metadata": {},
   "outputs": [],
   "source": []
  },
  {
   "cell_type": "code",
   "execution_count": 11,
   "metadata": {},
   "outputs": [
    {
     "data": {
      "text/plain": [
       "(<Figure size 432x288 with 1 Axes>,\n",
       " <matplotlib.axes._subplots.AxesSubplot at 0x129f7b5c0>,\n",
       " [<matplotlib.collections.LineCollection at 0x1327ec080>,\n",
       "  <matplotlib.collections.LineCollection at 0x1327ec390>,\n",
       "  <matplotlib.collections.LineCollection at 0x1327ec358>,\n",
       "  <matplotlib.collections.LineCollection at 0x1327ec630>,\n",
       "  <matplotlib.collections.LineCollection at 0x1327f3278>,\n",
       "  <matplotlib.collections.LineCollection at 0x1327f3208>,\n",
       "  [<matplotlib.lines.Line2D at 0x1327e1ef0>]])"
      ]
     },
     "execution_count": 11,
     "metadata": {},
     "output_type": "execute_result"
    },
    {
     "data": {
      "image/png": "[encoded data removed]",
      "text/plain": [
       "<Figure size 432x288 with 1 Axes>"
      ]
     },
     "metadata": {
      "needs_background": "light"
     },
     "output_type": "display_data"
    }
   ],
   "source": [
    "inputPatternList = recordPattern1\n",
    "sumPattern1 = InputPattern(name = \"sumPattern1\", isiBase = inputPatternList[0].isiBase)\n",
    "\n",
    "for pattern in inputPatternList:\n",
    "    sumPattern1.eventList = np.append(sumPattern1.eventList, pattern.eventList)\n",
    "\n",
    "for event in sumPattern1.eventList:\n",
    "    event.time = event.time/10**6\n",
    "    \n",
    "sumPattern1.plot_spikes()"
   ]
  },
  {
   "cell_type": "code",
   "execution_count": 12,
   "metadata": {},
   "outputs": [
    {
     "data": {
      "text/plain": [
       "(<Figure size 432x288 with 1 Axes>,\n",
       " <matplotlib.axes._subplots.AxesSubplot at 0x132879c18>,\n",
       " [<matplotlib.collections.LineCollection at 0x1328ba3c8>,\n",
       "  <matplotlib.collections.LineCollection at 0x1328ba6d8>,\n",
       "  <matplotlib.collections.LineCollection at 0x1328ba6a0>,\n",
       "  <matplotlib.collections.LineCollection at 0x1328c5208>,\n",
       "  <matplotlib.collections.LineCollection at 0x1328c5198>,\n",
       "  <matplotlib.collections.LineCollection at 0x1328c5940>,\n",
       "  [<matplotlib.lines.Line2D at 0x1328ba278>]])"
      ]
     },
     "execution_count": 12,
     "metadata": {},
     "output_type": "execute_result"
    },
    {
     "data": {
      "image/png": "[encoded data removed]",
      "text/plain": [
       "<Figure size 432x288 with 1 Axes>"
      ]
     },
     "metadata": {
      "needs_background": "light"
     },
     "output_type": "display_data"
    }
   ],
   "source": [
    "inputPatternList = recordPattern2\n",
    "sumPattern2 = InputPattern(name = \"sumPattern2\", isiBase = inputPatternList[0].isiBase)\n",
    "\n",
    "for pattern in inputPatternList:\n",
    "    sumPattern2.eventList = np.append(sumPattern2.eventList, pattern.eventList)\n",
    "\n",
    "for event in sumPattern2.eventList:\n",
    "    event.time = event.time/10**6\n",
    "    \n",
    "sumPattern2.plot_spikes()    \n",
    "    "
   ]
  },
  {
   "cell_type": "code",
   "execution_count": 56,
   "metadata": {},
   "outputs": [
    {
     "data": {
      "image/png": "[encoded data removed]",
      "text/plain": [
       "<Figure size 229.32x141.731 with 1 Axes>"
      ]
     },
     "metadata": {
      "needs_background": "light"
     },
     "output_type": "display_data"
    },
    {
     "data": {
      "image/png": "[encoded data removed]",
      "text/plain": [
       "<Figure size 229.32x141.731 with 1 Axes>"
      ]
     },
     "metadata": {
      "needs_background": "light"
     },
     "output_type": "display_data"
    }
   ],
   "source": [
    "# fig, ax1, handles = sumPattern1.plot_spikes()\n",
    "\n",
    "plt.rc('text', usetex=True)\n",
    "plt.rc('xtick', labelsize=14)\n",
    "plt.rc('axes', titlesize=14)     # fontsize of the axes title\n",
    "plt.rc('ytick', labelsize=14)\n",
    "plt.rc('axes', labelsize=14)\n",
    "\n",
    "# plt.rcParams.update({'font.size': 22})\n",
    "width = 6.37 / 2\n",
    "height = width / 1.618 \n",
    "\n",
    "\n",
    "# fig = plt.figure()\n",
    "\n",
    "# ax1 = fig.add_subplot(121)\n",
    "# _, ax1, _ = sumPattern1.plot_spikes()\n",
    "# ax1.plot(tSig1, ySig1)\n",
    "\n",
    "fig, _, _ = sumPattern1.plot_spikes()\n",
    "plt.plot(tSig1, ySig1)\n",
    "plt.title('Ramp + Sine')\n",
    "plt.xlabel('Time (sec)')\n",
    "\n",
    "\n",
    "\n",
    "fig.subplots_adjust(left=.1, right=.98, top=.88, bottom = 0.25, wspace=0.2)\n",
    "\n",
    "fig.set_size_inches(width, height)\n",
    "\n",
    "plt.gcf().savefig('/Users/liutianlin/Desktop/Academics/MSc_thesis/my_msc_thesis/figs/thesis_sine_ramp1.pdf', dpi=1200)\n",
    "\n",
    "\n",
    "fig, _, _ = sumPattern2.plot_spikes()\n",
    "plt.plot(tSig2, ySig2)\n",
    "plt.title('Sine')\n",
    "plt.xlabel('Time (sec)')\n",
    "plt.yticks([])\n",
    "\n",
    "fig.subplots_adjust(left=.1, right=.98, top=.88, bottom = 0.25, wspace=0.2)\n",
    "\n",
    "fig.set_size_inches(width, height)\n",
    "\n",
    "plt.gcf().savefig('/Users/liutianlin/Desktop/Academics/MSc_thesis/my_msc_thesis/figs/thesis_sine_ramp2.pdf', dpi=1200)\n",
    "plt.show()\n"
   ]
  },
  {
   "cell_type": "code",
   "execution_count": 100,
   "metadata": {},
   "outputs": [],
   "source": [
    "# import matplotlib.pyplot as plot\n",
    "# plot.eventplot(recordPattern1[2].tSig, lineoffsets = 0, linelengths = 6.27, linewidths = 0.4, color = 'k')     \n",
    "\n",
    "\n"
   ]
  },
  {
   "cell_type": "code",
   "execution_count": 30,
   "metadata": {},
   "outputs": [
    {
     "data": {
      "image/png": "[encoded data removed]",
      "text/plain": [
       "<Figure size 432x288 with 1 Axes>"
      ]
     },
     "metadata": {
      "needs_background": "light"
     },
     "output_type": "display_data"
    }
   ],
   "source": [
    "# ====================== Write events to output file in cAER folder\n",
    "# fileName = \"/Users/liutianlin/Desktop/Academics/MINDS/neuromorphic/caer/myStimulus/inClassification.txt\"\n",
    "# DSG.write_to_file(*finalPattern, fileName = fileName)\n",
    "\n",
    "\n",
    "\n",
    "fig, ax1, handles = DSG.plot_spikes(recordPattern1[2])\n",
    "delay = in_5_0_P[\"startDelay\"] + in_5_0_P[\"safeDelay\"] + in_5_0_P[\"sig1Delay\"]\n",
    "handle = ax1.plot((np.linspace(0, in_5_0_P[\"sig2Duration\"], 2*int(in_5_0_P[\"sigSamples\"])) + delay)*1e6, np.array(list(ySig1)))\n",
    "# handle = ax1.plot((np.linspace(0, in_5_0_P[\"sig2Duration\"], 2*int(in_5_0_P[\"sigSamples\"])) + delay), np.array(list(ySig1)))\n",
    "\n"
   ]
  },
  {
   "cell_type": "code",
   "execution_count": 18,
   "metadata": {},
   "outputs": [
    {
     "ename": "NameError",
     "evalue": "name 'delay' is not defined",
     "output_type": "error",
     "traceback": [
      "\u001b[0;31m---------------------------------------------------------------------------\u001b[0m",
      "\u001b[0;31mNameError\u001b[0m                                 Traceback (most recent call last)",
      "\u001b[0;32m<ipython-input-18-4ae37c760cc7>\u001b[0m in \u001b[0;36m<module>\u001b[0;34m\u001b[0m\n\u001b[0;32m----> 1\u001b[0;31m \u001b[0mdelay\u001b[0m\u001b[0;34m\u001b[0m\u001b[0;34m\u001b[0m\u001b[0m\n\u001b[0m",
      "\u001b[0;31mNameError\u001b[0m: name 'delay' is not defined"
     ]
    }
   ],
   "source": [
    "delay"
   ]
  },
  {
   "cell_type": "code",
   "execution_count": 35,
   "metadata": {},
   "outputs": [
    {
     "data": {
      "image/png": "[encoded data removed]",
      "text/plain": [
       "<Figure size 432x288 with 1 Axes>"
      ]
     },
     "metadata": {
      "needs_background": "light"
     },
     "output_type": "display_data"
    }
   ],
   "source": [
    "fig, ax, handles = DSG.plot_spikes(*recordPattern1)\n"
   ]
  },
  {
   "cell_type": "code",
   "execution_count": 36,
   "metadata": {},
   "outputs": [
    {
     "data": {
      "image/png": "[encoded data removed]",
      "text/plain": [
       "<Figure size 432x288 with 1 Axes>"
      ]
     },
     "metadata": {
      "needs_background": "light"
     },
     "output_type": "display_data"
    }
   ],
   "source": [
    "fig, ax, handles = DSG.plot_spikes(*finalPattern)\n"
   ]
  },
  {
   "cell_type": "code",
   "execution_count": 33,
   "metadata": {},
   "outputs": [
    {
     "data": {
      "text/plain": [
       "[<DYNAPSETools.classes.InputPattern.InputPattern at 0x137788860>,\n",
       " <DYNAPSETools.classes.InputPattern.InputPattern at 0x137788860>,\n",
       " <DYNAPSETools.classes.InputPattern.InputPattern at 0x135880940>,\n",
       " <DYNAPSETools.classes.InputPattern.InputPattern at 0x135880e10>,\n",
       " <DYNAPSETools.classes.InputPattern.InputPattern at 0x137788860>,\n",
       " <DYNAPSETools.classes.InputPattern.InputPattern at 0x1377885f8>,\n",
       " <DYNAPSETools.classes.InputPattern.InputPattern at 0x137788710>,\n",
       " <DYNAPSETools.classes.InputPattern.InputPattern at 0x135880940>,\n",
       " <DYNAPSETools.classes.InputPattern.InputPattern at 0x135880e10>,\n",
       " <DYNAPSETools.classes.InputPattern.InputPattern at 0x137788860>,\n",
       " <DYNAPSETools.classes.InputPattern.InputPattern at 0x1377885f8>,\n",
       " <DYNAPSETools.classes.InputPattern.InputPattern at 0x137788710>,\n",
       " <DYNAPSETools.classes.InputPattern.InputPattern at 0x135880940>,\n",
       " <DYNAPSETools.classes.InputPattern.InputPattern at 0x135880e10>,\n",
       " <DYNAPSETools.classes.InputPattern.InputPattern at 0x137788860>,\n",
       " <DYNAPSETools.classes.InputPattern.InputPattern at 0x1377885f8>,\n",
       " <DYNAPSETools.classes.InputPattern.InputPattern at 0x137788710>,\n",
       " <DYNAPSETools.classes.InputPattern.InputPattern at 0x13e2c4978>,\n",
       " <DYNAPSETools.classes.InputPattern.InputPattern at 0x13e2c4978>,\n",
       " <DYNAPSETools.classes.InputPattern.InputPattern at 0x135880940>,\n",
       " <DYNAPSETools.classes.InputPattern.InputPattern at 0x137788588>,\n",
       " <DYNAPSETools.classes.InputPattern.InputPattern at 0x13e2c4978>,\n",
       " <DYNAPSETools.classes.InputPattern.InputPattern at 0x1377885f8>,\n",
       " <DYNAPSETools.classes.InputPattern.InputPattern at 0x137788710>,\n",
       " <DYNAPSETools.classes.InputPattern.InputPattern at 0x135880940>,\n",
       " <DYNAPSETools.classes.InputPattern.InputPattern at 0x137788588>,\n",
       " <DYNAPSETools.classes.InputPattern.InputPattern at 0x13e2c4978>,\n",
       " <DYNAPSETools.classes.InputPattern.InputPattern at 0x1377885f8>,\n",
       " <DYNAPSETools.classes.InputPattern.InputPattern at 0x137788710>,\n",
       " <DYNAPSETools.classes.InputPattern.InputPattern at 0x135880940>,\n",
       " <DYNAPSETools.classes.InputPattern.InputPattern at 0x137788588>,\n",
       " <DYNAPSETools.classes.InputPattern.InputPattern at 0x13e2c4978>,\n",
       " <DYNAPSETools.classes.InputPattern.InputPattern at 0x1377885f8>,\n",
       " <DYNAPSETools.classes.InputPattern.InputPattern at 0x137788710>]"
      ]
     },
     "execution_count": 33,
     "metadata": {},
     "output_type": "execute_result"
    }
   ],
   "source": [
    "finalPattern"
   ]
  },
  {
   "cell_type": "code",
   "execution_count": null,
   "metadata": {},
   "outputs": [],
   "source": []
  }
 ],
 "metadata": {
  "kernelspec": {
   "display_name": "Python 3",
   "language": "python",
   "name": "python3"
  },
  "language_info": {
   "codemirror_mode": {
    "name": "ipython",
    "version": 3
   },
   "file_extension": ".py",
   "mimetype": "text/x-python",
   "name": "python",
   "nbconvert_exporter": "python",
   "pygments_lexer": "ipython3",
   "version": "3.7.3"
  }
 },
 "nbformat": 4,
 "nbformat_minor": 2
}
