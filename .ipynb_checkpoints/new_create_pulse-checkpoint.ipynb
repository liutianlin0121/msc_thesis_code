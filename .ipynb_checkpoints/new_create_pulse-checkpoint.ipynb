{
 "cells": [
  {
   "cell_type": "code",
   "execution_count": 1,
   "metadata": {},
   "outputs": [],
   "source": [
    "\"\"\"Creates the input event pattern for the network. It generates:\n",
    "- 5 seconds of 1Hz sinusoidal wave (5 periods) events\n",
    "- 5 seconds of 2Hz sinusoidal wave (10 period) events\n",
    "Events are synchronized using a startTrigger and stopTrigger\n",
    "Output target is directly encoded in the input pattern\n",
    "\"\"\"\n",
    "\n",
    "import os\n",
    "os.chdir(\"/Users/liutianlin/Desktop/Academics/MINDS/neuromorphic\")\n",
    "\n",
    "\n",
    "\n",
    "import numpy as np\n",
    "import matplotlib.pyplot as plt\n",
    "from dynapseReservoir.networks.inputsParameters import in_5_0_P\n",
    "from dynapseReservoir.networks.reservoirsParameters import generalNetP \n",
    "import DYNAPSETools.dynapseSpikesGenerator as DSG\n",
    "\n",
    "# the output file that reford the spikes\n",
    "fileName = \"/Users/liutianlin/Desktop/Academics/MINDS/neuromorphic/caer/myStimulus/in_pulse.txt\"\n",
    "\n"
   ]
  },
  {
   "cell_type": "code",
   "execution_count": 2,
   "metadata": {},
   "outputs": [
    {
     "name": "stderr",
     "output_type": "stream",
     "text": [
      "/Users/liutianlin/anaconda3/lib/python3.7/site-packages/ipykernel_launcher.py:62: DeprecationWarning: object of type <class 'float'> cannot be safely interpreted as an integer.\n",
      "/Users/liutianlin/anaconda3/lib/python3.7/site-packages/ipykernel_launcher.py:76: DeprecationWarning: object of type <class 'float'> cannot be safely interpreted as an integer.\n",
      "/Users/liutianlin/anaconda3/lib/python3.7/site-packages/ipykernel_launcher.py:99: DeprecationWarning: object of type <class 'float'> cannot be safely interpreted as an integer.\n"
     ]
    },
    {
     "name": "stdout",
     "output_type": "stream",
     "text": [
      "Checking and writing pattern startTrigger\n",
      "Current pattern lenght is 1\n",
      "Cumulative pattern lenght is 1. Remaining 32766 events\n",
      "Pattern startTrigger succesfully written\n",
      "\n",
      "Checking and writing pattern onesClassification\n",
      "Current pattern lenght is 1\n",
      "Cumulative pattern lenght is 2. Remaining 32765 events\n",
      "Pattern onesClassification succesfully written\n",
      "\n",
      "Checking and writing pattern signal1\n",
      "Current pattern lenght is 35\n",
      "Cumulative pattern lenght is 37. Remaining 32730 events\n",
      "Pattern signal1 succesfully written\n",
      "\n",
      "Checking and writing pattern endStimulus\n",
      "Current pattern lenght is 1\n",
      "Cumulative pattern lenght is 38. Remaining 32729 events\n",
      "Pattern endStimulus succesfully written\n",
      "\n",
      "Checking and writing pattern constantSpike\n",
      "Current pattern lenght is 1\n",
      "Cumulative pattern lenght is 39. Remaining 32728 events\n",
      "Pattern constantSpike succesfully written\n",
      "\n",
      "Checking and writing pattern signal2\n",
      "Current pattern lenght is 34\n",
      "Cumulative pattern lenght is 73. Remaining 32694 events\n",
      "Pattern signal2 succesfully written\n",
      "\n",
      "Checking and writing pattern endStimulus\n",
      "Current pattern lenght is 1\n",
      "Cumulative pattern lenght is 74. Remaining 32693 events\n",
      "Pattern endStimulus succesfully written\n",
      "\n",
      "Checking and writing pattern stopTrigger\n",
      "Current pattern lenght is 1\n",
      "Cumulative pattern lenght is 75. Remaining 32692 events\n",
      "Pattern stopTrigger succesfully written\n",
      "\n"
     ]
    }
   ],
   "source": [
    "\n",
    "np.random.seed(in_5_0_P[\"seed\"])\n",
    "\n",
    "plt.close(\"all\")\n",
    "\n",
    "startDelay = 0.5\n",
    "#======================  Create events\n",
    "# Start experiment event\n",
    "startTrigger = DSG.InputPattern(name = \"startTrigger\", isiBase = in_5_0_P[\"isiBase\"])\n",
    "U, C, N = generalNetP[\"inStartTriggerPos\"]\n",
    "startTrigger.single_event(virtualSourceCoreId = C,\n",
    "                          neuronAddress = N,\n",
    "                          coreDest = in_5_0_P[\"coreDest\"],\n",
    "                          firePeriod = in_5_0_P[\"startDelay\"])\n",
    "#                           firePeriod = startDelay)\n",
    "\n",
    "# Out neuron 1 classification\n",
    "onesClassification = DSG.InputPattern(name = \"onesClassification\", isiBase = in_5_0_P[\"isiBase\"])\n",
    "U, C, N = generalNetP[\"inTargetEncodingPos\"]\n",
    "onesClassification.single_event(virtualSourceCoreId = C,\n",
    "                                neuronAddress = N,\n",
    "                                coreDest = in_5_0_P[\"coreDest\"],\n",
    "#                                 firePeriod = in_5_0_P[\"safeDelay\"])\n",
    "                          firePeriod = startDelay)\n",
    "    \n",
    "\n",
    "# A constant spike event that is not connect to the real neuron \n",
    "constantSpike = DSG.InputPattern(name = \"constantSpike\", isiBase = in_5_0_P[\"isiBase\"])\n",
    "U, C, N = generalNetP[\"inCH4\"] # U04C00N24\n",
    "constantSpike.single_event(virtualSourceCoreId = C,\n",
    "                         neuronAddress = N,\n",
    "                         coreDest = in_5_0_P[\"coreDest\"],\n",
    "                         firePeriod = in_5_0_P[\"safeDelay\"])\n",
    "\n",
    "\n",
    "# Stop experiment event\n",
    "endStimulus = DSG.InputPattern(name = \"endStimulus\", isiBase = in_5_0_P[\"isiBase\"])\n",
    "U, C, N = generalNetP[\"inEndStimulusPos\"]\n",
    "endStimulus.single_event(virtualSourceCoreId = C,\n",
    "                         neuronAddress = N,\n",
    "                         coreDest = in_5_0_P[\"coreDest\"],\n",
    "                         firePeriod = in_5_0_P[\"safeDelay\"])\n",
    "\n",
    "# Stop experiment event\n",
    "stopTrigger = DSG.InputPattern(name = \"stopTrigger\", isiBase = in_5_0_P[\"isiBase\"])\n",
    "U, C, N = generalNetP[\"inStopTriggerPos\"]\n",
    "stopTrigger.single_event(virtualSourceCoreId = C,\n",
    "                         neuronAddress = N,\n",
    "                         coreDest = in_5_0_P[\"coreDest\"],\n",
    "                         firePeriod = in_5_0_P[\"stopDelay\"])\n",
    "\n",
    "\n",
    "#%%\n",
    "\n",
    "# Create first signal type\n",
    "signal1 = DSG.InputPattern(name = \"signal1\", isiBase = in_5_0_P[\"isiBase\"])\n",
    "\n",
    "\n",
    "# Part2\n",
    "tStart = tStop = 0\n",
    "tStop += in_5_0_P[\"sig1part2Duration\"]\n",
    "tSig1Part2 = np.linspace(tStart, tStop, in_5_0_P[\"sigSamples\"])\n",
    "\n",
    "#spikeLen = 10000  # the spike lasts for 10000 microsecond, which is 0.01 second\n",
    "\n",
    "spikeLen = int(len(tSig1Part2))\n",
    "\n",
    "ySig1Part2_1 = 5*tSig1Part2[:spikeLen] \n",
    "ySig1Part2_2 = np.zeros( len(tSig1Part2) - spikeLen)\n",
    "ySig1Part2 = np.append(ySig1Part2_1, ySig1Part2_2) \n",
    "          \n",
    "\n",
    "# Part3\n",
    "tStart = tStop\n",
    "tStop += in_5_0_P[\"sig1part3Duration\"]\n",
    "tSig1Part3 = np.linspace(tStart, tStop, in_5_0_P[\"sigSamples\"])\n",
    "ySig1Part3 = np.zeros(len(tSig1Part3))\n",
    "\n",
    "tSig1 = np.ndarray.flatten(np.array([tSig1Part2, tSig1Part3]))\n",
    "ySig1 = np.ndarray.flatten(np.array([ySig1Part2, ySig1Part3]))\n",
    "\n",
    "U, C, N1 = generalNetP[\"inCH0\"]\n",
    "U, C, N2 = generalNetP[\"inCH1\"]\n",
    "\n",
    "\n",
    "signal1.threshold_encoder(virtualSourceCoreId = C,\n",
    "                          neuronAddressUpCH = N1,  \n",
    "                          neuronAddressDwCH = N2,  \n",
    "                          coreDest = in_5_0_P[\"coreDest\"],   \n",
    "                          threshold = in_5_0_P[\"sigThd\"],    \n",
    "                          t = tSig1,    \n",
    "                          y = ySig1,    \n",
    "                          noiseVar = in_5_0_P[\"sig1Jitter\"],      \n",
    "                          initDelay = in_5_0_P[\"sig1Delay\"])  \n",
    "\n",
    "\n",
    "#%%\n",
    "signal2 = DSG.InputPattern(name = \"signal2\", isiBase = in_5_0_P[\"isiBase\"])\n",
    "tSig2 = np.linspace(0, 5, in_5_0_P[\"sigSamples\"]) # last for 5 seconds\n",
    "ySig2 = tSig2\n",
    "\n",
    "U, C, N1 = generalNetP[\"inCH0\"]\n",
    "U, C, N2 = generalNetP[\"inCH1\"]\n",
    "U, C, N3 = generalNetP[\"inCH3\"] # U04C00N24\n",
    "U, C, N4 = generalNetP[\"inCH4\"] # U04C00N24\n",
    "\n",
    "signal2.threshold_encoder(virtualSourceCoreId = C,\n",
    "                          neuronAddressUpCH = N3,\n",
    "                          neuronAddressDwCH = N4,\n",
    "                          coreDest = in_5_0_P[\"coreDest\"],\n",
    "                          threshold = in_5_0_P[\"sigThd\"],\n",
    "                          t = tSig2,\n",
    "                          y = ySig2,\n",
    "                          noiseVar = in_5_0_P[\"sig2Jitter\"],\n",
    "                          initDelay = in_5_0_P[\"sig2Delay\"])\n",
    "\n",
    "\n",
    "finalPattern = [startTrigger,\n",
    "                 onesClassification,\n",
    "                 signal1,\n",
    "                 endStimulus,\n",
    "                 constantSpike,\n",
    "                 signal2,\n",
    "                 endStimulus,\n",
    "                 stopTrigger]\n",
    "\n",
    "# ====================== Write events to output file in cAER folder\n",
    "DSG.write_to_file(*finalPattern, fileName = fileName)\n",
    "\n"
   ]
  },
  {
   "cell_type": "code",
   "execution_count": 3,
   "metadata": {},
   "outputs": [
    {
     "name": "stderr",
     "output_type": "stream",
     "text": [
      "/Users/liutianlin/anaconda3/lib/python3.7/site-packages/ipykernel_launcher.py:5: DeprecationWarning: object of type <class 'float'> cannot be safely interpreted as an integer.\n",
      "  \"\"\"\n"
     ]
    },
    {
     "data": {
      "image/png": "[encoded data removed]",
      "text/plain": [
       "<Figure size 432x288 with 1 Axes>"
      ]
     },
     "metadata": {
      "needs_background": "light"
     },
     "output_type": "display_data"
    }
   ],
   "source": [
    "\n",
    "fig, ax1, handles = DSG.plot_spikes(*finalPattern)\n",
    "# delay = in_5_0_P[\"startDelay\"] + in_5_0_P[\"safeDelay\"] + in_5_0_P[\"sig1Delay\"]\n",
    "delay = startDelay + in_5_0_P[\"safeDelay\"] + in_5_0_P[\"sig1Delay\"]\n",
    "handle = ax1.plot((np.linspace(0, in_5_0_P[\"sig2Duration\"], 2*in_5_0_P[\"sigSamples\"]) + delay)*1e6, np.array(list(ySig1)))\n",
    "\n"
   ]
  },
  {
   "cell_type": "code",
   "execution_count": 9,
   "metadata": {},
   "outputs": [
    {
     "data": {
      "text/plain": [
       "0.502"
      ]
     },
     "execution_count": 9,
     "metadata": {},
     "output_type": "execute_result"
    }
   ],
   "source": [
    "delay"
   ]
  },
  {
   "cell_type": "code",
   "execution_count": null,
   "metadata": {},
   "outputs": [],
   "source": []
  }
 ],
 "metadata": {
  "kernelspec": {
   "display_name": "Python 3",
   "language": "python",
   "name": "python3"
  },
  "language_info": {
   "codemirror_mode": {
    "name": "ipython",
    "version": 3
   },
   "file_extension": ".py",
   "mimetype": "text/x-python",
   "name": "python",
   "nbconvert_exporter": "python",
   "pygments_lexer": "ipython3",
   "version": "3.7.3"
  }
 },
 "nbformat": 4,
 "nbformat_minor": 2
}
