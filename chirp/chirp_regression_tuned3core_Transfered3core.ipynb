{
 "cells": [
  {
   "cell_type": "code",
   "execution_count": 1,
   "metadata": {},
   "outputs": [],
   "source": [
    "from scipy.signal import chirp\n",
    "import numpy as np\n",
    "from matplotlib import pyplot as plt\n",
    "import math\n",
    "import os\n",
    "from sklearn import linear_model\n",
    "from sklearn.metrics import mean_squared_error\n",
    "os.chdir(\"/Users/liutianlin/Desktop/Academics/MINDS/neuromorphic\")\n",
    "import matplotlib.pyplot as plot\n",
    "\n",
    "import numpy as np\n",
    "from matplotlib import pyplot as plt\n",
    "import h5py\n",
    "import DYNAPSETools.dynapseSpikesFitter as fitter\n",
    "\n",
    "folderName = \"/Users/liutianlin/Desktop/Academics/MINDS/neuromorphic/caer/myoutputs/thesis_output_aedat/\"\n",
    "\n",
    "\n",
    "plt.close('all')\n",
    "\n",
    "# fileList = ['classificationBias_slowClassificationRes_seqPulse','baselineBias_classificationRes_seqPulse']\n",
    "\n",
    "\n",
    "fileList = ['classificationBias_3coreClassificationResSlow_seqPulse','classificationBias_transferRes3Cores_seqPulse']\n",
    "\n",
    "\n",
    "    \n",
    "    "
   ]
  },
  {
   "cell_type": "code",
   "execution_count": 2,
   "metadata": {},
   "outputs": [
    {
     "data": {
      "image/png": "[encoded data removed]",
      "text/plain": [
       "<Figure size 432x288 with 1 Axes>"
      ]
     },
     "metadata": {
      "needs_background": "light"
     },
     "output_type": "display_data"
    }
   ],
   "source": [
    "tEnd = 3.35\n",
    "t = np.linspace(0, tEnd, 335)\n",
    "w = chirp(t, f0= 1.25, f1= 0.25, t1= tEnd, method='linear') # the chirp signal\n",
    "# w = chirp(t, f0= 6.25, f1= 0.25, t1= tEnd, method='linear') # the chirp signal\n",
    "\n",
    "u = 2* np.concatenate((np.ones([1,50])[0], np.zeros((1,285))[0])) # the input pulse\n",
    "\n",
    "repeatTime = 30\n",
    "periodicChirpList = [w]\n",
    "pulseSigList = [u]\n",
    "\n",
    "for i in np.arange(repeatTime - 1):\n",
    "    periodicChirpList.append(w)\n",
    "    pulseSigList.append(u)\n",
    "\n",
    "periodicChirp = np.array(periodicChirpList).flatten()    \n",
    "pulseSig = np.array(pulseSigList).flatten()    \n",
    "\n",
    "plot.eventplot(np.where(pulseSig[:2*335] == 2)[0], lineoffsets = 10, linelengths = 6.27, linewidths = 0.4, color = 'k')     \n",
    "\n",
    "\n",
    "plt.plot(periodicChirp[:2*335])\n",
    "# plt.plot(pulseSig[:2*335])\n",
    "mse_train_dict = {}\n",
    "mse_test_dict = {}\n",
    "\n",
    "prediction_train_dict = {}\n",
    "prediction_test_dict = {}"
   ]
  },
  {
   "cell_type": "code",
   "execution_count": 3,
   "metadata": {},
   "outputs": [
    {
     "name": "stdout",
     "output_type": "stream",
     "text": [
      "classificationBias_3coreClassificationResSlow_seqPulse\n",
      "0.04\n",
      "0.23\n",
      "classificationBias_transferRes3Cores_seqPulse\n",
      "0.04\n",
      "0.38\n"
     ]
    }
   ],
   "source": [
    "alphas ={}\n",
    "alphas['classificationBias_3coreClassificationResSlow_seqPulse'] = 10\n",
    "alphas['classificationBias_transferRes3Cores_seqPulse'] = 100\n",
    "\n",
    "\n",
    "for this_File in fileList:\n",
    "\n",
    "    print(this_File)\n",
    "\n",
    "    trainDataset = this_File + '.hdf5'\n",
    "\n",
    "    fileName = os.path.join(folderName, trainDataset)\n",
    "    h5f = h5py.File(fileName, \"r\")\n",
    "    importedData = h5f[\"data\"][:]\n",
    "    h5f.close()\n",
    "\n",
    "    data = np.concatenate(importedData, axis = 1)\n",
    "\n",
    "\n",
    "    data = data[:, :len(periodicChirp)] # match the size of input and target \n",
    "\n",
    "    nonzeroNeuronIndices = np.where(np.sum(data, axis = 1) > 1e-10)[0] \n",
    "    data = data[nonzeroNeuronIndices, :]\n",
    "\n",
    "    trainTestSplit = int(2* len(periodicChirp)/4)\n",
    "\n",
    "    trainData = data[:, :trainTestSplit]\n",
    "    testData = data[:, trainTestSplit:]\n",
    "\n",
    "    trainTarget = periodicChirp[:trainTestSplit]\n",
    "    testTarget = periodicChirp[trainTestSplit:]\n",
    "\n",
    "    # target = periodicChirp\n",
    "    alpha  = alphas[this_File]\n",
    "    regr = linear_model.Ridge(alpha = alpha) # carry out linear regression\n",
    "\n",
    "    regr.fit(trainData.T, trainTarget.T)\n",
    "    coefficients = regr.coef_\n",
    "\n",
    "    prediction_train = fitter.sklearn_prevision(regr = regr, matrix = trainData)\n",
    "    prediction_test = fitter.sklearn_prevision(regr = regr, matrix = testData)\n",
    "\n",
    "\n",
    "    prediction_train_dict[this_File] = prediction_train\n",
    "    prediction_test_dict[this_File] = prediction_test\n",
    "\n",
    "    mse_train_dict[this_File] = round(mean_squared_error(prediction_train, trainTarget),2)\n",
    "\n",
    "    mse_test_dict[this_File] = round(mean_squared_error(prediction_test, testTarget),2)\n",
    "\n",
    "\n",
    "\n",
    "    print(mse_train_dict[this_File])\n",
    "\n",
    "    print(mse_test_dict[this_File])"
   ]
  },
  {
   "cell_type": "code",
   "execution_count": 28,
   "metadata": {},
   "outputs": [
    {
     "data": {
      "text/plain": [
       "{'classificationBias_3coreClassificationResSlow_seqPulse': array([-0.93628395, -0.52683294, -0.5398451 , ..., -1.1165177 ,\n",
       "        -1.1529547 , -0.7520101 ], dtype=float32),\n",
       " 'classificationBias_transferRes3Cores_seqPulse': array([-0.8526978 , -0.8714785 , -0.6628756 , ..., -0.3673622 ,\n",
       "        -0.53539056, -0.46551543], dtype=float32)}"
      ]
     },
     "execution_count": 28,
     "metadata": {},
     "output_type": "execute_result"
    }
   ],
   "source": [
    "prediction_test_dict"
   ]
  },
  {
   "cell_type": "code",
   "execution_count": 29,
   "metadata": {},
   "outputs": [
    {
     "data": {
      "text/plain": [
       "{'classificationBias_3coreClassificationResSlow_seqPulse': 0.04,\n",
       " 'classificationBias_transferRes3Cores_seqPulse': 0.04}"
      ]
     },
     "execution_count": 29,
     "metadata": {},
     "output_type": "execute_result"
    }
   ],
   "source": [
    "mse_train_dict"
   ]
  },
  {
   "cell_type": "code",
   "execution_count": 30,
   "metadata": {},
   "outputs": [
    {
     "data": {
      "text/plain": [
       "{'classificationBias_3coreClassificationResSlow_seqPulse': 0.23,\n",
       " 'classificationBias_transferRes3Cores_seqPulse': 0.38}"
      ]
     },
     "execution_count": 30,
     "metadata": {},
     "output_type": "execute_result"
    }
   ],
   "source": [
    "mse_test_dict"
   ]
  },
  {
   "cell_type": "markdown",
   "metadata": {},
   "source": [
    "# Visualize results"
   ]
  },
  {
   "cell_type": "code",
   "execution_count": 46,
   "metadata": {},
   "outputs": [
    {
     "data": {
      "image/png": "[encoded data removed]",
      "text/plain": [
       "<Figure size 458.64x141.731 with 2 Axes>"
      ]
     },
     "metadata": {
      "needs_background": "light"
     },
     "output_type": "display_data"
    }
   ],
   "source": [
    "plt.rc('text', usetex=True)\n",
    "plt.rc('xtick', labelsize=14)\n",
    "plt.rc('ytick', labelsize=14)\n",
    "plt.rc('axes', labelsize=14)\n",
    "\n",
    "# plt.rcParams.update({'font.size': 22})\n",
    "width = 6.37\n",
    "height = width / 1.618 / 2\n",
    "fig = plt.figure()\n",
    "# fig.subplots_adjust(left=.06, bottom=.16, right=.99, top=.97)\n",
    "ax1 = fig.add_subplot(121)\n",
    "\n",
    "nrPeriods = 3\n",
    "\n",
    "\n",
    "ax1.plot(np.arange(nrPeriods * 335)/100, prediction_test_dict[fileList[0]][0:nrPeriods * 335], color = 'b',linewidth = 2)\n",
    "ax1.plot(np.arange(nrPeriods * 335)/100, testTarget[:nrPeriods * 335], linestyle = '--', color = 'red', linewidth = 2)\n",
    "# ax1.plot(np.arange(nrPeriods * 335)/100, pulseSig[:nrPeriods * 335], linestyle = '-', color = 'g', linewidth = 2)\n",
    "# ax1.eventplot(np.where(pulseSig[:nrPeriods*335] == 2)[0]/100, lineoffsets = 2.2, linelengths = 1, linewidths = 0.4, color = 'k')     \n",
    "\n",
    "\n",
    "\n",
    "inputSpikes = np.array([])\n",
    "\n",
    "for i in np.arange(nrPeriods):\n",
    "    inputSpikes = np.concatenate((inputSpikes, np.linspace(0, 0.5, 8) + i * 3.5 ))\n",
    "\n",
    "ax1.eventplot(inputSpikes, lineoffsets = 2.2, linelengths = 1, linewidths = 0.4, color = 'g')     \n",
    "\n",
    "\n",
    "\n",
    "ax1.set_ylim([-2, 3])\n",
    "ax1.set_xlim([0, 10.05])\n",
    "ax1.set_xlabel('Time (sec)')\n",
    "ax1.text(7.4, -1.8, 'MSE: ' + str(mse_test_dict[fileList[0]]), fontsize=11)\n",
    "\n",
    "# ax1.set_ylabel('Time (sec)')\n",
    "\n",
    "\n",
    "ax2 = fig.add_subplot(122)\n",
    "ax2.plot(np.arange(nrPeriods * 335)/100, prediction_test_dict[fileList[1]][:nrPeriods * 335], color = 'b', linewidth = 2)\n",
    "ax2.plot(np.arange(nrPeriods * 335)/100, testTarget[:nrPeriods * 335], linestyle = '--', color = 'red',  linewidth = 2)\n",
    "# ax2.plot(np.arange(nrPeriods * 335)/100, pulseSig[:nrPeriods * 335], linestyle = '-', color = 'g', linewidth = 2)\n",
    "# ax2.eventplot(np.where(pulseSig[:nrPeriods*335] == 2)[0]/100, lineoffsets = 2.2, linelengths = 1, linewidths = 0.4, color = 'k')     \n",
    "ax2.eventplot(inputSpikes, lineoffsets = 2.2, linelengths = 1, linewidths = 0.4, color = 'g')     \n",
    "\n",
    "ax2.set_ylim([-2, 3])\n",
    "ax2.set_xlim([0, 10.05])\n",
    "ax2.text(7.4, -1.8, 'MSE: ' + str(mse_test_dict[fileList[1]]), fontsize=11)\n",
    "\n",
    "ax2.set_xlabel('Time (sec)')\n",
    "\n",
    "\n",
    "fig.set_size_inches(width, height)\n",
    "# fig.subplots_adjust(left=.04, bottom=.05, right=.98, top=.97)\n",
    "\n",
    "fig.subplots_adjust(left=.08, right=.99, top=.97, bottom = 0.3, wspace=0.2)\n",
    "\n",
    "\n",
    "# plt.subplots_adjust(bottom = 0.3, wspace=0.1)\n",
    "# plt.gcf().savefig('/Users/liutianlin/Desktop/Academics/MSc_thesis/my_msc_thesis/figs/thesis_regression.pdf', dpi=1200)\n",
    "plt.show()\n",
    "\n",
    "\n"
   ]
  },
  {
   "cell_type": "code",
   "execution_count": null,
   "metadata": {},
   "outputs": [],
   "source": []
  }
 ],
 "metadata": {
  "kernelspec": {
   "display_name": "Python 3",
   "language": "python",
   "name": "python3"
  },
  "language_info": {
   "codemirror_mode": {
    "name": "ipython",
    "version": 3
   },
   "file_extension": ".py",
   "mimetype": "text/x-python",
   "name": "python",
   "nbconvert_exporter": "python",
   "pygments_lexer": "ipython3",
   "version": "3.7.3"
  }
 },
 "nbformat": 4,
 "nbformat_minor": 2
}
