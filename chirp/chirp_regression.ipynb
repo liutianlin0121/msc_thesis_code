{
 "cells": [
  {
   "cell_type": "code",
   "execution_count": 105,
   "metadata": {},
   "outputs": [],
   "source": [
    "from scipy.signal import chirp\n",
    "import numpy as np\n",
    "from matplotlib import pyplot as plt\n",
    "import math\n",
    "import os\n",
    "from sklearn import linear_model\n",
    "from sklearn.metrics import mean_squared_error\n",
    "os.chdir(\"/Users/liutianlin/Desktop/Academics/MINDS/neuromorphic\")\n",
    "\n",
    "import numpy as np\n",
    "from matplotlib import pyplot as plt\n",
    "import h5py\n",
    "import DYNAPSETools.dynapseSpikesFitter as fitter\n",
    "\n",
    "folderName = \"/Users/liutianlin/Desktop/Academics/MINDS/neuromorphic/caer/myoutputs/thesis_output_aedat/\"\n",
    "\n",
    "\n",
    "plt.close('all')\n",
    "\n",
    "trainFileList = ['classificationBias_slowClassificationRes_seqPulse','baselineBias_classificationRes_seqPulse']\n",
    "\n",
    "\n",
    "      \n",
    "\n",
    "    \n",
    "    "
   ]
  },
  {
   "cell_type": "code",
   "execution_count": 128,
   "metadata": {},
   "outputs": [],
   "source": [
    "u = np.ones([1,5])\n"
   ]
  },
  {
   "cell_type": "code",
   "execution_count": 154,
   "metadata": {},
   "outputs": [
    {
     "data": {
      "text/plain": [
       "array([1., 1., 1., 1., 1., 1., 1., 1., 1., 1., 1., 1., 1., 1., 1., 1., 1.,\n",
       "       1., 1., 1., 1., 1., 1., 1., 1., 1., 1., 1., 1., 1., 1., 1., 1., 1.,\n",
       "       1., 1., 1., 1., 1., 1., 1., 1., 1., 1., 1., 1., 1., 1., 1., 1., 0.,\n",
       "       0., 0., 0., 0., 0., 0., 0., 0., 0., 0., 0., 0., 0., 0., 0., 0., 0.,\n",
       "       0., 0., 0., 0., 0., 0., 0., 0., 0., 0., 0., 0., 0., 0., 0., 0., 0.,\n",
       "       0., 0., 0., 0., 0., 0., 0., 0., 0., 0., 0., 0., 0., 0., 0., 0., 0.,\n",
       "       0., 0., 0., 0., 0., 0., 0., 0., 0., 0., 0., 0., 0., 0., 0., 0., 0.,\n",
       "       0., 0., 0., 0., 0., 0., 0., 0., 0., 0., 0., 0., 0., 0., 0., 0., 0.,\n",
       "       0., 0., 0., 0., 0., 0., 0., 0., 0., 0., 0., 0., 0., 0., 0., 0., 0.,\n",
       "       0., 0., 0., 0., 0., 0., 0., 0., 0., 0., 0., 0., 0., 0., 0., 0., 0.,\n",
       "       0., 0., 0., 0., 0., 0., 0., 0., 0., 0., 0., 0., 0., 0., 0., 0., 0.,\n",
       "       0., 0., 0., 0., 0., 0., 0., 0., 0., 0., 0., 0., 0., 0., 0., 0., 0.,\n",
       "       0., 0., 0., 0., 0., 0., 0., 0., 0., 0., 0., 0., 0., 0., 0., 0., 0.,\n",
       "       0., 0., 0., 0., 0., 0., 0., 0., 0., 0., 0., 0., 0., 0., 0., 0., 0.,\n",
       "       0., 0., 0., 0., 0., 0., 0., 0., 0., 0., 0., 0., 0., 0., 0., 0., 0.,\n",
       "       0., 0., 0., 0., 0., 0., 0., 0., 0., 0., 0., 0., 0., 0., 0., 0., 0.,\n",
       "       0., 0., 0., 0., 0., 0., 0., 0., 0., 0., 0., 0., 0., 0., 0., 0., 0.,\n",
       "       0., 0., 0., 0., 0., 0., 0., 0., 0., 0., 0., 0., 0., 0., 0., 0., 0.,\n",
       "       0., 0., 0., 0., 0., 0., 0., 0., 0., 0., 0., 0., 0., 0., 0., 0., 0.,\n",
       "       0., 0., 0., 0., 0., 0., 0., 0., 0., 0., 0., 0.])"
      ]
     },
     "execution_count": 154,
     "metadata": {},
     "output_type": "execute_result"
    }
   ],
   "source": []
  },
  {
   "cell_type": "code",
   "execution_count": 157,
   "metadata": {},
   "outputs": [
    {
     "data": {
      "text/plain": [
       "[<matplotlib.lines.Line2D at 0x1c3a1b75c0>]"
      ]
     },
     "execution_count": 157,
     "metadata": {},
     "output_type": "execute_result"
    },
    {
     "data": {
      "image/png": "[encoded data removed]",
      "text/plain": [
       "<Figure size 432x288 with 1 Axes>"
      ]
     },
     "metadata": {
      "needs_background": "light"
     },
     "output_type": "display_data"
    }
   ],
   "source": [
    "tEnd = 3.35\n",
    "t = np.linspace(0, tEnd, 335)\n",
    "w = chirp(t, f0= 1.25, f1= 0.25, t1= tEnd, method='linear') # the chirp signal\n",
    "u = 2* np.concatenate((np.ones([1,50])[0], np.zeros((1,285))[0])) # the input pulse\n",
    "\n",
    "2.852924, 0.50\n",
    "\n",
    "repeatTime = 30\n",
    "periodicChirpList = [w]\n",
    "pulseSigList = [u]\n",
    "\n",
    "for i in np.arange(repeatTime - 1):\n",
    "    periodicChirpList.append(w)\n",
    "    pulseSigList.append(u)\n",
    "\n",
    "periodicChirp = np.array(periodicChirpList).flatten()    \n",
    "pulseSig = np.array(pulseSigList).flatten()    \n",
    "\n",
    "\n",
    "plt.plot(periodicChirp[:2*335])\n",
    "plt.plot(pulseSig[:2*335])\n"
   ]
  },
  {
   "cell_type": "code",
   "execution_count": 158,
   "metadata": {},
   "outputs": [],
   "source": [
    "prediction_dict = {}\n",
    "mse_dict = {}\n",
    "\n",
    "for this_trainFile in trainFileList:\n",
    "\n",
    "\n",
    "    trainDataset = this_trainFile + '.hdf5'\n",
    "    testDataset = trainDataset\n",
    "\n",
    "    fileName = os.path.join(folderName, trainDataset)\n",
    "    h5f = h5py.File(fileName, \"r\")\n",
    "    importedData = h5f[\"data\"][:]\n",
    "    h5f.close()\n",
    "\n",
    "    data = np.concatenate(importedData, axis = 1)\n",
    "\n",
    "\n",
    "    data = data[:, :len(periodicChirp)] # match the size of input and target \n",
    "\n",
    "    nonzeroNeuronIndices = np.where(np.sum(data, axis = 1) > 1e-10)[0] \n",
    "    data = data[nonzeroNeuronIndices, :]\n",
    "\n",
    "\n",
    "    target = periodicChirp\n",
    "\n",
    "    \n",
    "    regr = linear_model.Ridge(alpha = 0) # carry out linear regression\n",
    "\n",
    "    regr.fit(data.T, target.T)\n",
    "    coefficients = regr.coef_\n",
    "\n",
    "    prediction = fitter.sklearn_prevision(regr = regr, matrix = data)\n",
    "\n",
    "    \n",
    "    prediction_dict[this_trainFile] = prediction\n",
    "\n",
    "    mse_dict[this_trainFile] = round(mean_squared_error(prediction_dict[this_trainFile], target),2)\n",
    "\n",
    "    "
   ]
  },
  {
   "cell_type": "code",
   "execution_count": 159,
   "metadata": {},
   "outputs": [
    {
     "data": {
      "text/plain": [
       "{'classificationBias_slowClassificationRes_seqPulse': 0.14,\n",
       " 'baselineBias_classificationRes_seqPulse': 0.42}"
      ]
     },
     "execution_count": 159,
     "metadata": {},
     "output_type": "execute_result"
    }
   ],
   "source": [
    "mse_dict"
   ]
  },
  {
   "cell_type": "markdown",
   "metadata": {},
   "source": [
    "# Visualize results"
   ]
  },
  {
   "cell_type": "code",
   "execution_count": 173,
   "metadata": {},
   "outputs": [
    {
     "data": {
      "image/png": "[encoded data removed]",
      "text/plain": [
       "<Figure size 458.64x141.731 with 2 Axes>"
      ]
     },
     "metadata": {
      "needs_background": "light"
     },
     "output_type": "display_data"
    }
   ],
   "source": [
    "plt.rc('text', usetex=True)\n",
    "plt.rc('xtick', labelsize=14)\n",
    "plt.rc('ytick', labelsize=14)\n",
    "plt.rc('axes', labelsize=14)\n",
    "\n",
    "# plt.rcParams.update({'font.size': 22})\n",
    "width = 6.37\n",
    "height = width / 1.618 / 2\n",
    "fig = plt.figure()\n",
    "# fig.subplots_adjust(left=.06, bottom=.16, right=.99, top=.97)\n",
    "ax1 = fig.add_subplot(121)\n",
    "\n",
    "nrPeriods = 3\n",
    "\n",
    "\n",
    "ax1.plot(np.arange(nrPeriods * 335)/100, prediction_dict['baselineBias_classificationRes_seqPulse'][0:nrPeriods * 335], color = 'b',linewidth = 3)\n",
    "ax1.plot(np.arange(nrPeriods * 335)/100, target[:nrPeriods * 335], linestyle = '--', color = 'red', linewidth = 2.2)\n",
    "ax1.plot(np.arange(nrPeriods * 335)/100, pulseSig[:nrPeriods * 335], linestyle = '-', color = 'g', linewidth = 2.2)\n",
    "\n",
    "ax1.set_ylim([-1.5, 2.5])\n",
    "ax1.set_xlim([0, 10.05])\n",
    "ax1.set_xlabel('Time (sec)')\n",
    "ax1.text(7.4, 1.9, 'MSE: ' + str(mse_dict['baselineBias_classificationRes_seqPulse']), fontsize=11)\n",
    "\n",
    "# ax1.set_ylabel('Time (sec)')\n",
    "\n",
    "\n",
    "ax2 = fig.add_subplot(122)\n",
    "ax2.plot(np.arange(nrPeriods * 335)/100, prediction_dict['classificationBias_slowClassificationRes_seqPulse'][:nrPeriods * 335], color = 'b', linewidth = 3)\n",
    "ax2.plot(np.arange(nrPeriods * 335)/100, target[:nrPeriods * 335], linestyle = '--', color = 'red',  linewidth = 2.2)\n",
    "ax2.plot(np.arange(nrPeriods * 335)/100, pulseSig[:nrPeriods * 335], linestyle = '-', color = 'g', linewidth = 2.2)\n",
    "ax2.set_ylim([-1.5, 2.5])\n",
    "ax2.set_xlim([0, 10.05])\n",
    "ax2.text(7.4, 1.9, 'MSE: ' + str(mse_dict['classificationBias_slowClassificationRes_seqPulse']), fontsize=11)\n",
    "\n",
    "ax2.set_xlabel('Time (sec)')\n",
    "\n",
    "\n",
    "fig.set_size_inches(width, height)\n",
    "fig.subplots_adjust(left=.04, bottom=.05, right=.98, top=.97)\n",
    "\n",
    "plt.subplots_adjust(bottom = 0.3, wspace=0.1)\n",
    "plt.gcf().savefig('/Users/liutianlin/Desktop/Academics/MSc_thesis/my_msc_thesis/figs/thesis_regression.pdf', dpi=1200)\n",
    "\n",
    "plt.show()\n",
    "\n"
   ]
  },
  {
   "cell_type": "code",
   "execution_count": 111,
   "metadata": {},
   "outputs": [
    {
     "data": {
      "text/plain": [
       "0.41"
      ]
     },
     "execution_count": 111,
     "metadata": {},
     "output_type": "execute_result"
    }
   ],
   "source": [
    "round(mean_squared_error(prediction_dict['baselineBias_classificationRes_seqPulse'][0:nrPeriods * 335], target[:nrPeriods * 335]),2) \n",
    "\n",
    "\n"
   ]
  },
  {
   "cell_type": "code",
   "execution_count": 110,
   "metadata": {},
   "outputs": [
    {
     "data": {
      "text/plain": [
       "0.19"
      ]
     },
     "execution_count": 110,
     "metadata": {},
     "output_type": "execute_result"
    }
   ],
   "source": [
    "round(mean_squared_error(prediction_dict['classificationBias_slowClassificationRes_seqPulse'][0:nrPeriods * 335], target[:nrPeriods * 335]),2)\n",
    "                   \n",
    "                   "
   ]
  },
  {
   "cell_type": "code",
   "execution_count": null,
   "metadata": {},
   "outputs": [],
   "source": []
  }
 ],
 "metadata": {
  "kernelspec": {
   "display_name": "Python 3",
   "language": "python",
   "name": "python3"
  },
  "language_info": {
   "codemirror_mode": {
    "name": "ipython",
    "version": 3
   },
   "file_extension": ".py",
   "mimetype": "text/x-python",
   "name": "python",
   "nbconvert_exporter": "python",
   "pygments_lexer": "ipython3",
   "version": "3.7.3"
  }
 },
 "nbformat": 4,
 "nbformat_minor": 2
}
