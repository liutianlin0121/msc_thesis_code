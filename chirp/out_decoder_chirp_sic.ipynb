{
 "cells": [
  {
   "cell_type": "code",
   "execution_count": 7,
   "metadata": {},
   "outputs": [],
   "source": [
    "import os\n",
    "os.chdir(\"/Users/liutianlin/Desktop/Academics/MINDS/neuromorphic\")\n",
    "\n",
    "import numpy as np\n",
    "from matplotlib import pyplot as plt\n",
    "import h5py\n",
    "\n",
    "from dynapseReservoir.networks.dynapseParameters import dynapseStructure\n",
    "from dynapseReservoir.networks.reservoirsParameters import generalNetP, r64_1_1_P\n",
    "from dynapseReservoir.networks.outputParameters import generalOutP\n",
    "import DYNAPSETools.dynapseOutDecoder as DOD\n",
    "\n",
    "\n",
    "plt.close(\"all\")\n",
    "%matplotlib tk\n",
    "\n",
    "\n",
    "folderName = \"/Users/liutianlin/Desktop/Academics/MINDS/neuromorphic/caer/myoutputs/thesis_output_aedat/\"\n",
    "\n",
    " "
   ]
  },
  {
   "cell_type": "code",
   "execution_count": 2,
   "metadata": {},
   "outputs": [
    {
     "name": "stdout",
     "output_type": "stream",
     "text": [
      "Read all data\n",
      "\n",
      "Extracted 1 experiments\n"
     ]
    },
    {
     "data": {
      "image/png": "[encoded data removed]",
      "text/plain": [
       "<Figure size 432x288 with 1 Axes>"
      ]
     },
     "metadata": {
      "needs_background": "light"
     },
     "output_type": "display_data"
    },
    {
     "data": {
      "image/png": "[encoded data removed]",
      "text/plain": [
       "<Figure size 432x288 with 1 Axes>"
      ]
     },
     "metadata": {
      "needs_background": "light"
     },
     "output_type": "display_data"
    }
   ],
   "source": [
    "\n",
    "# experimentName = 'classificationBias_slowClassificationRes_seqPulse'\n",
    "\n",
    "# experimentName = 'baselineBias_classificationRes_seqPulse'\n",
    "\n",
    "experimentName = 'transferBias_transferRes3Cores_seqPulse'\n",
    "\n",
    "inputRecording = experimentName + '.aedat'\n",
    "\n",
    "outputDataset = experimentName + '.hdf5'\n",
    "\n",
    "fileName =  os.path.join(folderName, inputRecording)\n",
    "\n",
    "\n",
    "#for inputRecording, outputDataset in fileNames:\n",
    "# ===============================================================================\n",
    "# ===============================================================================\n",
    "# ===============================================================================\n",
    "# ====================== Import .AEDAT file\n",
    "#fileName =  os.path.join(folderName, inputRecording)\n",
    "decEvents = DOD.import_events(fileName)\n",
    "decEvents = decEvents.normalize()\n",
    "decEvents.plot_events()\n",
    "\n",
    "# ====================== Define Filter events Core 0\n",
    "filterCore0 = []\n",
    "size = generalNetP[\"sizeTargetEncoding\"] # WHAT IS sizeTargetEncoding??\n",
    "U0, C0, N = generalNetP[\"targetEncodingPos\"]\n",
    "targetNeurons = [x for x in range(N, size + N)]\n",
    "filterCore0 += targetNeurons\n",
    "\n",
    "# Filter events taking only events that are important for elaboration\n",
    "U0, C0, N1 = generalNetP[\"startTriggerPos\"]\n",
    "U0, C0, N2 = generalNetP[\"stopTriggerPos\"]\n",
    "U0, C0, N3 = generalNetP[\"endStimulusPos\"]\n",
    "filterCore0 += [N1, N2, N3]\n",
    "\n",
    "# ====================== Define Filter events Core 1\n",
    "#%%\n",
    "size = r64_1_1_P[\"N_Res\"]\n",
    "U0, C1, N = generalNetP[\"reservoirStartPos\"]\n",
    "filterCore1 = [x for x in range(N, size + N)]\n",
    "#%%\n",
    "\n",
    "# ====================== Apply filter\n",
    "neuron_id_filter = [filterCore0, filterCore1]\n",
    "decFilteredEvents = decEvents.filter_events(chip_id = U0, core_id = [C0, C1], neuron_id = neuron_id_filter) # Take only events i need\n",
    "decFilteredEvents.plot_events()\n",
    "\n",
    "#%%\n",
    "# ====================== Extract experiments\n",
    "extractedEvents = decFilteredEvents.isolate_events_sets(startTriggerNeuron = generalNetP[\"startTriggerPos\"],\n",
    "                                                        stopTriggerNeuron = generalNetP[\"stopTriggerPos\"],\n",
    "                                                        maxNumber = None)\n",
    "    \n",
    "#%% Calculate the matrix of spike induced currents\n",
    "\n",
    "totNeurons = dynapseStructure[\"nNeuronsPerChip\"]\n",
    "experiment = extractedEvents[0] # try a single experiment\n",
    "#timeBin = generalOutP[\"timeBin\"] # 0.1 second\n",
    "alpha = 0.01\n",
    "\n",
    "\n",
    "U, C, N = generalNetP[\"reservoirStartPos\"]\n",
    "startNeuronRes = dynapseStructure[\"nNeuronsPerCore\"] * C + N\n",
    "stopNeuronRes = startNeuronRes + r64_1_1_P[\"N_Res\"]\n",
    "\n",
    "\n",
    "\n",
    "sicMatrices = []\n",
    "\n",
    "for experiment in extractedEvents:\n",
    "    spikeInducedCurrent_allNeurons = experiment.calculate_sic_matrix(totNeurons, alpha, timeBin = generalOutP[\"timeBin\"]*0.1)\n",
    "    spikeInducedCurrentMat =  np.array(spikeInducedCurrent_allNeurons[startNeuronRes:stopNeuronRes])\n",
    "    sicMatrices.append(spikeInducedCurrentMat[:,1:])\n",
    "\n",
    "data = sicMatrices\n",
    "    \n",
    "\n",
    "# ====================== Create targets of dataset\n",
    "outNotFiring = generalOutP[\"outNotFiring\"]\n",
    "# outFiring = generalOutP[\"outFiring\"]\n",
    "outFiring = 1\n",
    "\n",
    "outNeurons = r64_1_1_P[\"N_out\"]\n",
    "\n",
    "# ====================== Create dataset\n",
    "fileName = os.path.join(folderName, outputDataset)\n",
    "h5f = h5py.File(fileName, \"w\")\n",
    "dset = h5f.create_dataset(\"data\", np.shape(data), dtype = \"f\")\n",
    "dset[...] = data\n",
    "# dset = h5f.create_dataset(\"target\", np.shape(target), dtype = \"f\")\n",
    "# dset[...] = target\n",
    "h5f.close()\n",
    "    \n",
    "    \n",
    "##\n"
   ]
  },
  {
   "cell_type": "code",
   "execution_count": 3,
   "metadata": {},
   "outputs": [
    {
     "data": {
      "text/plain": [
       "array([2.852944, 0.502512])"
      ]
     },
     "execution_count": 3,
     "metadata": {},
     "output_type": "execute_result"
    }
   ],
   "source": [
    "spikeTimeInSecond = experiment.ts[np.where(experiment.neuron_id == 160)[0]]/10**6\n",
    "(spikeTimeInSecond[1:] - spikeTimeInSecond[:-1])[:2] # (the interval of between two pulses, the last time of a pulse).\n"
   ]
  },
  {
   "cell_type": "code",
   "execution_count": 6,
   "metadata": {},
   "outputs": [
    {
     "data": {
      "text/plain": [
       "256"
      ]
     },
     "execution_count": 6,
     "metadata": {},
     "output_type": "execute_result"
    }
   ],
   "source": []
  },
  {
   "cell_type": "code",
   "execution_count": null,
   "metadata": {},
   "outputs": [],
   "source": []
  }
 ],
 "metadata": {
  "kernelspec": {
   "display_name": "Python 3",
   "language": "python",
   "name": "python3"
  },
  "language_info": {
   "codemirror_mode": {
    "name": "ipython",
    "version": 3
   },
   "file_extension": ".py",
   "mimetype": "text/x-python",
   "name": "python",
   "nbconvert_exporter": "python",
   "pygments_lexer": "ipython3",
   "version": "3.7.3"
  }
 },
 "nbformat": 4,
 "nbformat_minor": 2
}
